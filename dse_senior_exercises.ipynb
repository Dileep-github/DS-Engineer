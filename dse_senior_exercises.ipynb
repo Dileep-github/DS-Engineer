{
 "cells": [
  {
   "cell_type": "code",
   "execution_count": 2,
   "metadata": {},
   "outputs": [],
   "source": [
    "import numpy as np\n",
    "import time"
   ]
  },
  {
   "cell_type": "markdown",
   "metadata": {},
   "source": [
    "### Improve the efficiency of following code"
   ]
  },
  {
   "cell_type": "code",
   "execution_count": 3,
   "metadata": {},
   "outputs": [
    {
     "name": "stdout",
     "output_type": "stream",
     "text": [
      "for loop method took 0.04062604904174805\n"
     ]
    },
    {
     "name": "stderr",
     "output_type": "stream",
     "text": [
      "<ipython-input-3-20eb095d231d>:4: RuntimeWarning: overflow encountered in long_scalars\n",
      "  total = i + total\n"
     ]
    }
   ],
   "source": [
    "starttime1=time.time()\n",
    "total = 0\n",
    "for i in np.arange(100000):\n",
    "    total = i + total\n",
    "endtime1=time.time()\n",
    "f_time=endtime1-starttime1\n",
    "print(f'for loop method took {f_time}')"
   ]
  },
  {
   "cell_type": "markdown",
   "metadata": {},
   "source": [
    "# idenitify code issue"
   ]
  },
  {
   "cell_type": "code",
   "execution_count": 10,
   "metadata": {},
   "outputs": [],
   "source": [
    "import pandas as pd\n",
    "import io\n",
    "import requests\n",
    "url=\"https://raw.githubusercontent.com/cs109/2014_data/master/countries.csv\"\n",
    "s=requests.get(url).content\n",
    "c=pd.read_csv(io.StringIO(s.decode('utf-8')))"
   ]
  },
  {
   "cell_type": "code",
   "execution_count": null,
   "metadata": {},
   "outputs": [],
   "source": [
    "#whats woring with following code->goal is to create new column and set the value for 'Paraguay' to 10\n",
    "c[c.Country=='Paraguay']['new_col']=10\n"
   ]
  },
  {
   "cell_type": "markdown",
   "metadata": {},
   "source": [
    "# Parllel processing"
   ]
  },
  {
   "cell_type": "code",
   "execution_count": null,
   "metadata": {},
   "outputs": [],
   "source": []
  },
  {
   "cell_type": "markdown",
   "metadata": {},
   "source": [
    "Normalize each row of 2d array (list) to vary between 0 and 1\n",
    "\n",
    "make sure code can execute on multiple cpu's\n",
    "\n",
    "input:[[2, 3, 4, 5], [6, 9, 10, 12], [11, 12, 13, 14], [21, 24, 25, 26]]\n",
    "\n",
    "Output:[[0.0, 0.3333333333333333, 0.6666666666666666, 1.0], [0.0, 0.5, 0.6666666666666666, 1.0], [0.0, 0.3333333333333333, 0.6666666666666666, 1.0], [0.0, 0.6, 0.8, 1.0]]"
   ]
  },
  {
   "cell_type": "markdown",
   "metadata": {},
   "source": []
  },
  {
   "cell_type": "code",
   "execution_count": null,
   "metadata": {},
   "outputs": [],
   "source": [
    "import multiprocessing as mp\n",
    "list_a = [[2, 3, 4, 5], [6, 9, 10, 12], [11, 12, 13, 14], [21, 24, 25, 26]]\n",
    "\n",
    "def normalize(mylist):\n",
    "    mini = min(mylist)\n",
    "    maxi = max(mylist)\n",
    "    return [(i - mini)/(maxi-mini) for i in mylist]\n",
    "\n",
    "pool = mp.Pool()\n",
    "#pool = mp.Pool(processes=2)\n",
    "results = [pool.apply(normalize, args=(l1, )) for l1 in list_a]\n",
    "pool.close()    \n",
    "print(results[:10])"
   ]
  },
  {
   "cell_type": "markdown",
   "metadata": {},
   "source": [
    "1.Program should read ddl statements and parse column names, data types and length of the columns and constraints\n",
    "\n",
    "2.Program should generate required number of rows for parent and child tables  (can be taken as a parameter)\n",
    "\n",
    "3.Generated data of both tables should follow the normalization rules and also foreign key constraints and data types\n",
    "\n",
    "4.write approriate test cases wtih python test framework(unit test or pytest)\n",
    "\n",
    "5.code should be committed to Git only when all the testcases are passd (use git actions) , this step acts as a ci/cd step.\n",
    "\n",
    "6.Code should be using oops concets and pep 8 standards with proper documentation\n",
    "\n",
    "7.result data should be saved in parquet format."
   ]
  },
  {
   "cell_type": "markdown",
   "metadata": {},
   "source": []
  }
 ],
 "metadata": {
  "kernelspec": {
   "display_name": "Python 3.8.13 ('prophet_dask')",
   "language": "python",
   "name": "python3"
  },
  "language_info": {
   "codemirror_mode": {
    "name": "ipython",
    "version": 3
   },
   "file_extension": ".py",
   "mimetype": "text/x-python",
   "name": "python",
   "nbconvert_exporter": "python",
   "pygments_lexer": "ipython3",
   "version": "3.8.13"
  },
  "orig_nbformat": 4,
  "vscode": {
   "interpreter": {
    "hash": "4957677facd8a6e72df18d44ce65e114ed39d9e074aafecc080edd6ab3e46e6b"
   }
  }
 },
 "nbformat": 4,
 "nbformat_minor": 2
}
